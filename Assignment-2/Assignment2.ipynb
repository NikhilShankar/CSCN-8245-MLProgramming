{
 "cells": [
  {
   "cell_type": "markdown",
   "metadata": {},
   "source": [
    "## PROG8245 Assignment 2: (Total Marks 110)\n",
    "## Start on 14th of October- Due on 1st of November"
   ]
  },
  {
   "cell_type": "markdown",
   "metadata": {},
   "source": [
    "- TODO: write your name and ID below\n",
    "- Name:\n",
    "- ID:\n",
    "- Kindly note that this assignment is to be solved by yourself, without the use of AI and chatbots.\n",
    "- If chatbot usage is detected, the penalty that is discussed in Week 1 slides will apply.\n",
    "- Each code block will have a Todo comment which explains the functionality, expected input, and expected output of the function.\n",
    "- There are 10 marks in this assignment for commenting and code readability.\n"
   ]
  },
  {
   "cell_type": "markdown",
   "metadata": {},
   "source": [
    "### Part 1: Visualizations (34)\n",
    "**NOTE:** Each question for plot in the visualization section is expected to be represented in **one** graph, using the library of your choice:"
   ]
  },
  {
   "cell_type": "markdown",
   "metadata": {},
   "source": [
    "#### **Question 1** \n",
    "\n",
    "Using the following dataset: https://raw.githubusercontent.com/mwaskom/seaborn-data/master/penguins.csv choose the most convenient graph to show the following:\n",
    "(18 Marks)\n"
   ]
  },
  {
   "cell_type": "markdown",
   "metadata": {},
   "source": [
    "**1. The relationship between the penguin's bill length and bill depth for each species.** (5 marks)"
   ]
  },
  {
   "cell_type": "code",
   "execution_count": null,
   "metadata": {},
   "outputs": [],
   "source": [
    "## TODO: Check your attributes, make a graph using Matplotlib or Seaborn to show the relationship needed\n"
   ]
  },
  {
   "cell_type": "markdown",
   "metadata": {},
   "source": [
    " **What do you observe from the graph?** (2 marks)"
   ]
  },
  {
   "cell_type": "markdown",
   "metadata": {},
   "source": [
    "Your answer here:\n",
    "\n",
    "*\n",
    "\n"
   ]
  },
  {
   "cell_type": "markdown",
   "metadata": {},
   "source": [
    "**Why did you choose this type of graph?** (2 marks)"
   ]
  },
  {
   "cell_type": "markdown",
   "metadata": {},
   "source": [
    "Your answer here:\n",
    "\n",
    "*   "
   ]
  },
  {
   "cell_type": "markdown",
   "metadata": {},
   "source": [
    "**2. Suitable graph of the mean BMI (BMI not body_mass; BMI Equation is: weight_in_kg/height^2) of female and male penguins. (Assume the height is the flipper length)**  (5 marks)\n"
   ]
  },
  {
   "cell_type": "code",
   "execution_count": null,
   "metadata": {},
   "outputs": [],
   "source": [
    "#Your answer here\n"
   ]
  },
  {
   "cell_type": "markdown",
   "metadata": {},
   "source": [
    " **What do you observe from the graph?** (2 marks)"
   ]
  },
  {
   "cell_type": "markdown",
   "metadata": {},
   "source": [
    "Your answer here:\n",
    "\n",
    "*   "
   ]
  },
  {
   "cell_type": "markdown",
   "metadata": {},
   "source": [
    "**Why did you choose this type of graph?** (2 marks)"
   ]
  },
  {
   "cell_type": "markdown",
   "metadata": {},
   "source": [
    "Your answer here:\n",
    "\n",
    "* \n",
    "\n"
   ]
  },
  {
   "cell_type": "markdown",
   "metadata": {},
   "source": [
    "#### **Question 2**\n",
    "\n",
    "You can find the csv file that contains the museum visitors data here: ./CSVs/museum_visitors.csv\n",
    "(8 marks)"
   ]
  },
  {
   "cell_type": "markdown",
   "metadata": {},
   "source": [
    "Review the data by taking a look at a few of the rows."
   ]
  },
  {
   "cell_type": "code",
   "execution_count": null,
   "metadata": {},
   "outputs": [],
   "source": [
    "# Your solution here\n"
   ]
  },
  {
   "cell_type": "markdown",
   "metadata": {},
   "source": [
    "Convince the museum board \n",
    "\n",
    "The Firehouse Museum claims they ran an event in 2014 that brought an incredible number of visitors, and that they should get extra budget to run a similar event again.  The other museums think these types of events aren't that important, and budgets should be split purely based on recent visitors on an average day.  \n",
    "\n",
    "To show the museum board how the event compared to regular traffic at each museum, create a suitable chart that shows how the number of visitors to each museum evolved over time.\n",
    "(4 marks)"
   ]
  },
  {
   "cell_type": "code",
   "execution_count": null,
   "metadata": {},
   "outputs": [],
   "source": [
    "#Your solution here\n"
   ]
  },
  {
   "cell_type": "markdown",
   "metadata": {},
   "source": [
    "What did you observe from the graph? (2 marks)"
   ]
  },
  {
   "cell_type": "markdown",
   "metadata": {},
   "source": [
    "Your answer here\n",
    "\n",
    "*"
   ]
  },
  {
   "cell_type": "markdown",
   "metadata": {},
   "source": [
    "Why did you choose this type of graph? (2 marks)"
   ]
  },
  {
   "cell_type": "markdown",
   "metadata": {},
   "source": [
    "You answer here\n",
    "\n",
    "*"
   ]
  },
  {
   "cell_type": "markdown",
   "metadata": {},
   "source": [
    "#### **Question 3**"
   ]
  },
  {
   "cell_type": "markdown",
   "metadata": {},
   "source": [
    "Using the file in ./CSVs/gas_prices.csv <br>\n",
    "Use a suitable plot/graph that will show the relationship between the average gas price for each country  over all years (vs others). (8 marks)"
   ]
  },
  {
   "cell_type": "markdown",
   "metadata": {},
   "source": [
    "First, review the data by taking a look at a few of the rows."
   ]
  },
  {
   "cell_type": "code",
   "execution_count": null,
   "metadata": {},
   "outputs": [],
   "source": [
    "# Your solution here\n"
   ]
  },
  {
   "cell_type": "markdown",
   "metadata": {},
   "source": [
    "Then Plot using the most suitable plot on your opinion (5 marks)"
   ]
  },
  {
   "cell_type": "code",
   "execution_count": null,
   "metadata": {},
   "outputs": [],
   "source": [
    "## Your solution here"
   ]
  },
  {
   "cell_type": "markdown",
   "metadata": {},
   "source": [
    "Is there anything interesting observed from the plot/graph? (1 mark)"
   ]
  },
  {
   "cell_type": "markdown",
   "metadata": {},
   "source": [
    "Your answer here\n",
    "\n",
    "*"
   ]
  },
  {
   "cell_type": "markdown",
   "metadata": {},
   "source": [
    "Why did you choose this type of graph? (2 marks)"
   ]
  },
  {
   "cell_type": "markdown",
   "metadata": {},
   "source": [
    "You answer here\n",
    "\n",
    "*"
   ]
  },
  {
   "cell_type": "markdown",
   "metadata": {},
   "source": [
    "### Part 2: Data Tidying and Preprocessing (24)"
   ]
  },
  {
   "cell_type": "markdown",
   "metadata": {},
   "source": [
    "#### **Question 4:** (12)\n",
    "**Tuberculosis Dataset** \n",
    "This dataset outlines the number of tuberculosis patients in different countries in the year 2000.<br>\n",
    "Dataset name: tb-raw.csv <br>\n",
    "A few notes on the raw data set:<br>\n",
    "\n",
    "- The columns starting with \"m\" or \"f\" contain multiple variables:  \n",
    "    - Sex (\"m\" or \"f\")\n",
    "    - Age Group (\"0-14\",\"15-24\", \"25-34\", \"45-54\", \"55-64\", \"65\", \"unknown\")\n",
    "- Mixture of 0s and missing values(\"NaN\"). This is due to the data collection process and the **distinction** is important for this dataset.\n"
   ]
  },
  {
   "cell_type": "markdown",
   "metadata": {},
   "source": [
    "- Task: Apply Data Tidying techniques to get a tidier dataset with more representive columns, please do it step-by-step and explain each step you are doing.\n",
    "(12 Marks)"
   ]
  },
  {
   "cell_type": "code",
   "execution_count": null,
   "metadata": {},
   "outputs": [],
   "source": [
    "## TODO: Apply your Data Tidying Technique here"
   ]
  },
  {
   "cell_type": "markdown",
   "metadata": {},
   "source": [
    "#### Question 5: (12) <br>\n",
    "Using Boston House pricing dataset, apply outlier detection techniques discussed in class to detect outliers. Use different techniques and comment your code. <br>\n",
    "You need to check how to load the dataset correctly! <br>\n",
    "1. You should include some Visualization techniques\n",
    "2. You should include some statistical approaches\n",
    "3. You should analyze your attributes using **Univariant and multivariant** outlier detection techniques.\n",
    "4. Choose one or more of your outlier detection techniques and remove outliers"
   ]
  },
  {
   "cell_type": "code",
   "execution_count": null,
   "metadata": {},
   "outputs": [],
   "source": [
    "# Importing\n",
    "data_url = \"http://lib.stat.cmu.edu/datasets/boston\""
   ]
  },
  {
   "cell_type": "markdown",
   "metadata": {},
   "source": [
    "### Part 3: Feature Engineering (17)"
   ]
  },
  {
   "cell_type": "markdown",
   "metadata": {},
   "source": [
    "#### Question 6- Feature Engineering - Attribute Correlation (17)\n",
    "- Load the file income_data.csv, inspect the columns.\n",
    "- Determine if race and education features have a statistical relationship. \n",
    "- Explain and conclude your findings (7 till here)\n",
    "- Inspect the dataset carefully and create an Indicator Feature (0/1) --(3)\n",
    "- Inspect the dataset carefully and create an Interaction Feature (Additional feature engineered from your dataset)-- (3)<br>\n",
    "__The features you create must be resonable, please add an explanation to explain why did you chose those features__  (2 for each explanation -> 4)"
   ]
  },
  {
   "cell_type": "code",
   "execution_count": null,
   "metadata": {},
   "outputs": [],
   "source": [
    "## TODO: Start Question 6 code here"
   ]
  },
  {
   "cell_type": "markdown",
   "metadata": {},
   "source": [
    "### Part 4: Challenging Preprocessing Problems"
   ]
  },
  {
   "cell_type": "markdown",
   "metadata": {},
   "source": [
    "#### Question 7: Implementing the Local Outlier Factor (LOF) Function (25)\n"
   ]
  },
  {
   "cell_type": "markdown",
   "metadata": {},
   "source": [
    "- Local outlier factor is a function that labels outlier based on 2 predefined parameters, the first one is t **k** for k-Nearest-Neighbours. The second one is the threshold of outliers which could be set arbitrary. However, in this coding task you are required to BOX-PLOTS to determine the threshold for the local outlier factor and label your outliers.\n",
    "- You are expected to implement different functions to reach the target which will be defined below.\n"
   ]
  },
  {
   "cell_type": "code",
   "execution_count": null,
   "metadata": {},
   "outputs": [],
   "source": [
    "def calculate_point_to_point_distance(point_a, point_b, distance_approach=\"Euclidean\"):\n",
    "    ## TODO: This function takes as an input two points (where each point is a pair of (x,y)) and returns the distance between the points.\n",
    "    ## The distance is calculate based on given distance_approach\n",
    "    ## You need to handle the Euclidean and Manhattan Distance Approaches in your code\n",
    "    return 0\n",
    "\n",
    "def get_points_lof(list_of_points, K=2, distance_approach = \"Euclidean\"):\n",
    "    ## TODO: This function takes a list of points and returns a dictionary\n",
    "    ## The dictionary is in format {point: LOF, ...}\n",
    "    ## You can use as much helper functions as you'd like\n",
    "    return { (0,0) : 1.4 } #...\n",
    "\n",
    "def get_outliers(list_of_points, K=2, distance_approach=\"Euclidean\"):\n",
    "    ## TODO: This function uses the get_points_lof to get the LOF scores, and uses is to build a box-plot\n",
    "    ## Using the box-plot points are labelled as outliers are returned to the user\n",
    "    ## Example: if point (2,1) and (3,2) are labelled as outliers using box-plot\n",
    "    ## Then you will return the example given in the place-holder below\n",
    "    return [(2,1),(3,2)] \n"
   ]
  },
  {
   "cell_type": "markdown",
   "metadata": {},
   "source": [
    "##### To calculate the LOF you need to apply the following steps:\n",
    " 1. Calculate the distance between each pair of points p1,p2\n",
    " 2. Find your Kth nearest neighbor point (x) from current point (p):\n",
    "    - After finding it, remember the distance *Nd* which is the distance from p to x, and save a set of elements which are in a neighborhood of *Nd* around point p.\n",
    "    - Save the length of this set of elements.\n",
    " 3. Calculate ReachDistance(x,p)=max(Nd_x, Distance(x,p))\n",
    " 3. Calculate LRD (Local Reachability Distance) where LRD_p = length_of_set_p/Sum[ReachDistance(x,p)] (for each x in set of elements of point p)\n",
    " 4. Calculate LOF (Local Outlier Factor) where LOF_p = {Sum[LRD_x] (for each x in set of elements of point p) * Sum[RD(x,p)] (for each x in set of elements of point p)} / length_of_set_p^2"
   ]
  },
  {
   "cell_type": "code",
   "execution_count": null,
   "metadata": {},
   "outputs": [],
   "source": [
    "## Example input\n",
    "list_of_points = [[0,0],[-1,0],[0,-1],[1,0],[5,5]]\n",
    "# get_outliers(list_of_points,2,distance_approach=\"Manhattan\") ==> [(5,5)]\n"
   ]
  }
 ],
 "metadata": {
  "language_info": {
   "name": "python"
  }
 },
 "nbformat": 4,
 "nbformat_minor": 2
}
